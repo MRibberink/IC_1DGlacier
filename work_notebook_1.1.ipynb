{
 "cells": [
  {
   "cell_type": "code",
   "execution_count": 1,
   "id": "212bc65e",
   "metadata": {},
   "outputs": [],
   "source": [
    "%matplotlib notebook"
   ]
  },
  {
   "cell_type": "code",
   "execution_count": 2,
   "id": "654dd8b1",
   "metadata": {},
   "outputs": [],
   "source": [
    "import numpy as np\n",
    "import matplotlib.pyplot as plt\n",
    "import matplotlib.animation as animation\n",
    "import GlacierSim\n",
    "from numpy import save"
   ]
  },
  {
   "cell_type": "code",
   "execution_count": null,
   "id": "53faaa1c",
   "metadata": {},
   "outputs": [
    {
     "name": "stdout",
     "output_type": "stream",
     "text": [
      "Run model for 4000 years\n"
     ]
    }
   ],
   "source": [
    "totL  = 20000 # total length of the domain [m]\n",
    "dx    =   100 # grid size [m]\n",
    "ntpy  =   200 # number of timesteps per year\n",
    "elalist = np.array([1700., 1600., 1700., 1750.,])  # m -> default 1800., 1750., 1900., 1800.,\n",
    "elayear = np.array([1000., 1000., 1000., 1000.])  # years      \n",
    "dbdh    =    0.001    # [m/m]/yr default 0.007\n",
    "maxb    =    2.      # m/yr default 2\n",
    "\n",
    "from GlacierSim import glacier_simulation\n",
    "simdict, nframes, hsurfmem,bedrock, smbmem,ifdmem,fldmem,flsmem,iframes= glacier_simulation(totL,dx,ntpy,elalist,elayear,dbdh,maxb)"
   ]
  },
  {
   "cell_type": "code",
   "execution_count": null,
   "id": "097ff2d7",
   "metadata": {},
   "outputs": [],
   "source": [
    "simdict.keys()"
   ]
  },
  {
   "cell_type": "code",
   "execution_count": null,
   "id": "9feda3d9",
   "metadata": {},
   "outputs": [],
   "source": [
    "simdict['mass']"
   ]
  },
  {
   "cell_type": "code",
   "execution_count": null,
   "id": "ce7e2765",
   "metadata": {},
   "outputs": [],
   "source": [
    "plt.plot(simdict['mass'])"
   ]
  },
  {
   "cell_type": "code",
   "execution_count": null,
   "id": "6c51d4fd",
   "metadata": {},
   "outputs": [],
   "source": []
  }
 ],
 "metadata": {
  "kernelspec": {
   "display_name": "Python 3",
   "language": "python",
   "name": "python3"
  },
  "language_info": {
   "codemirror_mode": {
    "name": "ipython",
    "version": 3
   },
   "file_extension": ".py",
   "mimetype": "text/x-python",
   "name": "python",
   "nbconvert_exporter": "python",
   "pygments_lexer": "ipython3",
   "version": "3.6.13"
  }
 },
 "nbformat": 4,
 "nbformat_minor": 5
}
