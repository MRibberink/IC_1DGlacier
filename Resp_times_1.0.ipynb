{
 "cells": [
  {
   "cell_type": "code",
   "execution_count": 1,
   "metadata": {},
   "outputs": [],
   "source": [
    "import pandas as pd\n",
    "import numpy as np\n",
    "import matplotlib.pyplot as plt"
   ]
  },
  {
   "cell_type": "code",
   "execution_count": 2,
   "metadata": {},
   "outputs": [
    {
     "data": {
      "text/plain": [
       "[<matplotlib.lines.Line2D at 0x22a7481d760>]"
      ]
     },
     "execution_count": 2,
     "metadata": {},
     "output_type": "execute_result"
    },
    {
     "data": {
      "image/png": "[encoded data removed]",
      "text/plain": [
       "<Figure size 432x288 with 1 Axes>"
      ]
     },
     "metadata": {
      "needs_background": "light"
     },
     "output_type": "display_data"
    }
   ],
   "source": [
    "#Importing the different data options\n",
    "ice=pd.read_csv(\"../ice_dimensions_b_0.006.csv\") # Glacier length - less precise\n",
    "mass=pd.read_csv(\"../ice_m_b_0.006.csv\") # Glacier mass - more precise\n",
    "\n",
    "plt.plot(mass['0'])"
   ]
  },
  {
   "cell_type": "code",
   "execution_count": 3,
   "metadata": {},
   "outputs": [],
   "source": [
    "def min_max_scaling(data):\n",
    "    # Normalize data (used in an older version of the script)\n",
    "    data_2= (data - np.min(data)) / (np.max(data) - np.min(data))\n",
    "        \n",
    "    return data_2\n",
    "\n",
    "def closest(list, Number):\n",
    "    # Find the closest value in list to Number - caution, if more than one x value for every y value,\n",
    "    # can cause problems and pick the wrong one - adjust accordingly.\n",
    "    aux = []\n",
    "    for valor in list:\n",
    "        aux.append(abs(Number-valor))\n",
    "\n",
    "    return aux.index(min(aux))"
   ]
  },
  {
   "cell_type": "code",
   "execution_count": 4,
   "metadata": {},
   "outputs": [],
   "source": [
    "def resp_time(data,num,diff,ts,mode):\n",
    "    #From given data, find the response time for num different ELA jumps (separated by an adjustment time of diff), \n",
    "    #with ts timesteps per year, and direction of mass change (up/down) given by mode. Set up to not give the first rt,\n",
    "    #as going from 0 to equilibrium is often not accurate.\n",
    "    #Inputs:\n",
    "    # - Data: list of data\n",
    "    # - num: number of shifts in equilibrium level\n",
    "    # - diff: time difference (years) between shifts of equilibrium level\n",
    "    # - ts: numer of timesteps per year\n",
    "    # - mode: whether data shows an upwards or downwards mass change (corresponding to a downwards or upwards ELA shift \n",
    "        #- keep it to one way per run, else it gets confused)\n",
    "        \n",
    "    eq_levels=[] #Level at which the glacier stabilizes\n",
    "    rt=np.empty((num,1)) #Response times in number of time steps\n",
    "    times=np.arange(0,diff*num*ts+1) #index of timesteps\n",
    "    changes=np.arange(0,diff*num*ts+1,diff*ts) #At which indices the change in ELA occurs\n",
    "    steps=changes[1:]-1 #Positions at which to take the eq.levels (1 ts before the change)\n",
    "    ice_h=list(data['0']) #turning the data into a useable list\n",
    "    e_fold=1-1/np.exp(1) #efolding distance\n",
    "       \n",
    "    if mode==\"up\": #Corresponds to an increasing mass, or decreasing ELA\n",
    "        \n",
    "        for i in range(num):#first grab the equil. levels \n",
    "            eq_levels=np.append(eq_levels,data['0'][steps[i]])\n",
    "            \n",
    "        for j in range(1,num): #process eq.levels \n",
    "            mass_diff=eq_levels[j]-eq_levels[j-1] #find diff in mass\n",
    "            e_fold_m=e_fold*mass_diff+eq_levels[j-1] #find the \"e folding mass\" (m *0.63) and add to bottom level\n",
    "            rt[j]=times[closest(ice_h,e_fold_m)]-changes[j] #find time this occurs and subtract time of ELA change\n",
    "        \n",
    "    elif mode == \"down\":# Corresponds to a decreasing mass, or increasing ELA\n",
    "        \n",
    "        jump=200000 #increase to prevent improper selection. \"jumps\" over first section of dataset\n",
    "        ice_h_d=ice_h[jump:]\n",
    "        \n",
    "        for i in range(num):#first grab the equil. levels \n",
    "            eq_levels=np.append(eq_levels,data['0'][steps[i]])\n",
    "            \n",
    "        for j in range(num-1): #process eq.levels \n",
    "            mass_diff=eq_levels[j]-eq_levels[j+1] #find diff in mass\n",
    "            e_fold_m=eq_levels[j]-e_fold*mass_diff#find the \"e folding mass\" (m *0.63) and subtract from top level\n",
    "            rt[j]=times[closest(ice_h_d,e_fold_m)]+jump-changes[j+1] #find time this occurs, subtract time of ELA change\n",
    "            \n",
    "    #Testing:\n",
    "    #print(rt/ts)\n",
    "    #print(eq_levels) \n",
    "    #print(loc_eq_levels)\n",
    "    #print(changes)\n",
    "    return eq_levels,rt/ts #returns eq.levels to check with graph above. rt is given in ts, need to divide to get years"
   ]
  },
  {
   "cell_type": "code",
   "execution_count": 5,
   "metadata": {},
   "outputs": [
    {
     "name": "stdout",
     "output_type": "stream",
     "text": [
      "[133.38666667 104.16        90.73        84.36333333  75.68      ]\n"
     ]
    }
   ],
   "source": [
    "eq_levels,rt=resp_time(mass,6,1000,300,'up') \n",
    "rts=[]\n",
    "for i in np.arange(1,len(rt)):\n",
    "    rts=np.append(rts,rt[i])\n",
    "print(rts)"
   ]
  }
 ],
 "metadata": {
  "kernelspec": {
   "display_name": "Python 3",
   "language": "python",
   "name": "python3"
  },
  "language_info": {
   "codemirror_mode": {
    "name": "ipython",
    "version": 3
   },
   "file_extension": ".py",
   "mimetype": "text/x-python",
   "name": "python",
   "nbconvert_exporter": "python",
   "pygments_lexer": "ipython3",
   "version": "3.8.5"
  }
 },
 "nbformat": 4,
 "nbformat_minor": 4
}
