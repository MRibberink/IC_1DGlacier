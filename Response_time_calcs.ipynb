{
 "cells": [
  {
   "cell_type": "code",
   "execution_count": 1,
   "metadata": {},
   "outputs": [],
   "source": [
    "import pandas as pd\n",
    "import numpy as np\n",
    "import matplotlib.pyplot as plt"
   ]
  },
  {
   "cell_type": "code",
   "execution_count": 42,
   "metadata": {},
   "outputs": [
    {
     "name": "stdout",
     "output_type": "stream",
     "text": [
      "8342982531.8334875\n"
     ]
    },
    {
     "data": {
      "image/png": "[encoded data removed]",
      "text/plain": [
       "<Figure size 432x288 with 1 Axes>"
      ]
     },
     "metadata": {
      "needs_background": "light"
     },
     "output_type": "display_data"
    }
   ],
   "source": [
    "ice=pd.read_csv(\"ice_dimensions_d_3.csv\")\n",
    "mass=pd.read_csv(\"ice_m_d_3.csv\")\n",
    "\n",
    "plt.plot(mass['0'])\n",
    "print(mass['0'][113171])\n",
    "\n",
    "#plt.plot([300000,600000],[eq_levels[1],eq_levels[1]])\n",
    "#plt.xlim([290000,610000])\n",
    "#plt.ylim([4E9,5E9])"
   ]
  },
  {
   "cell_type": "code",
   "execution_count": 3,
   "metadata": {},
   "outputs": [],
   "source": [
    "def min_max_scaling(data):\n",
    "    data_2= (data - np.min(data)) / (np.max(data) - np.min(data))\n",
    "        \n",
    "    return data_2\n",
    "\n",
    "def closest(list, Number):\n",
    "    aux = []\n",
    "    for valor in list:\n",
    "        aux.append(abs(Number-valor))\n",
    "\n",
    "    return aux.index(min(aux))"
   ]
  },
  {
   "cell_type": "code",
   "execution_count": 44,
   "metadata": {},
   "outputs": [],
   "source": [
    "def resp_time(data,num,diff,ts,mode):\n",
    "    eq_levels=[]\n",
    "    loc_eq_levels=[]\n",
    "    rt=np.arange(0,num-1)\n",
    "    times=np.arange(0,diff*num*ts+1)\n",
    "    sections=np.zeros((num,len(times)))\n",
    "    ice_h=list(data['0'])\n",
    "    e_fold=1-1/np.exp(1)\n",
    "    changes=np.arange(0,diff*num*ts+1,diff*ts)\n",
    "    steps=changes[1:]-1\n",
    "    changes2=np.arange(0,diff*num*ts+1,diff*ts)\n",
    "    changes2[0]=30000\n",
    "\n",
    "    \n",
    "    if mode==\"up\":\n",
    "        for i in range(num):\n",
    "            eq_levels=np.append(eq_levels,data['0'][steps[i]])\n",
    "            loc_eq_levels=np.append(loc_eq_levels,ice_h.index(eq_levels[i]))\n",
    "            \n",
    "        for j in range(num):\n",
    "            mass_diff=eq_levels[j]-eq_levels[j-1]\n",
    "            e_fold_m=e_fold*mass_diff+eq_levels[j-1]\n",
    "            rt[j]=times[closest(ice_h,e_fold_m)]-changes[j]\n",
    "        print(rt/ts)\n",
    "        \n",
    "    elif mode == \"down\":\n",
    "        jump=200000\n",
    "        ice_h_d=ice_h[jump:]\n",
    "        for i in range(num):\n",
    "            eq_levels=np.append(eq_levels,data['0'][steps[i]])\n",
    "        for j in range(num-1):\n",
    "            mass_diff=eq_levels[j]-eq_levels[j+1]\n",
    "            e_fold_m=eq_levels[j]-e_fold*mass_diff\n",
    "            rt[j]=times[closest(ice_h_d,e_fold_m)]+jump-changes[j+1] \n",
    "        print(rt/ts)\n",
    "    return eq_levels,rt/ts,times"
   ]
  },
  {
   "cell_type": "code",
   "execution_count": 43,
   "metadata": {},
   "outputs": [
    {
     "name": "stdout",
     "output_type": "stream",
     "text": [
      "[8.37324761e+09 7.49068936e+09 6.56995150e+09 5.63834932e+09\n",
      " 4.62936183e+09 3.55205836e+09]\n",
      "[      0  300000  600000  900000 1200000 1500000 1800000]\n",
      "882558241.9099874\n",
      "7815364397.465374\n",
      "114329\n",
      "314329\n",
      "-185671\n",
      "[47.76333333 51.51       54.59       62.08333333 72.61333333]\n"
     ]
    }
   ],
   "source": [
    "eq_levels,rt=resp_time(mass,6,1000,300,'down')"
   ]
  },
  {
   "cell_type": "code",
   "execution_count": 4,
   "metadata": {},
   "outputs": [],
   "source": [
    "def resp_time0(data,num,diff,ts):\n",
    "    eq_levels=[]\n",
    "    loc_eq_levels=[]\n",
    "    rt=np.arange(0,num)\n",
    "    times=np.arange(0,diff*num*ts+1)\n",
    "    sections=np.zeros((num,len(times)))\n",
    "    ice_h=list(data['0'])\n",
    "    e_fold=1-1/np.exp(1)\n",
    "    changes=np.arange(0,diff*num*ts+1,diff*ts)\n",
    "    steps=changes[1:]-1\n",
    "    print(changes)\n",
    "    print(steps)\n",
    "    \n",
    "    for i in range(num):\n",
    "        eq_levels=np.append(eq_levels,data['0'][steps[i]])\n",
    "        loc_eq_levels=np.append(loc_eq_levels,ice_h.index(eq_levels[i]))\n",
    "    print(eq_levels)\n",
    "    print(loc_eq_levels)    \n",
    "    for j in range(num):\n",
    "        mass_diff=eq_levels[j]-eq_levels[j-1]\n",
    "        e_fold_m=e_fold*mass_diff+eq_levels[j-1]\n",
    "        rt[j]=times[closest(ice_h,e_fold_m)]-changes[j]\n",
    "    print(rt/ts)\n",
    "    return eq_levels,rt/ts"
   ]
  },
  {
   "cell_type": "code",
   "execution_count": 7,
   "metadata": {},
   "outputs": [],
   "source": [
    "def resp_time1(num,diff,ts,mode):\n",
    "    eq_levels=[]\n",
    "    loc_eq_levels=[]\n",
    "    rt=np.arange(0,num)\n",
    "    times=np.arange(0,300000)\n",
    "    sections=np.zeros((num,len(times)))\n",
    "    ice_h=list(ice['0'][50000:])\n",
    "    e_fold=1/np.exp(1)\n",
    "    changes=np.arange(0,diff*num*ts+1,diff*ts)\n",
    "    steps=changes[1:]-1\n",
    "    print(changes)\n",
    "    if mode==\"up\":\n",
    "        for i in range(num):\n",
    "            eq_levels=np.append(eq_levels,ice['0'][steps[i]])\n",
    "            loc_eq_levels=np.append(loc_eq_levels,ice_h.index(eq_levels[i])+50000)\n",
    "            print(eq_levels)\n",
    "        for j in range(num):\n",
    "            section=[]\n",
    "            section=ice['0'][int(changes[j]):int(loc_eq_levels[j])]\n",
    "            print(np.shape(section))\n",
    "            section=np.append(section,np.zeros((len(times)-np.shape(section)[0])))\n",
    "            section_n=min_max_scaling(section)\n",
    "            sections[j,:]=section_n\n",
    "            rt[j]=times[closest(section_n,e_fold)]\n",
    "    if mode==\"down\":\n",
    "        for i in range(num):\n",
    "            eq_levels=np.append(eq_levels,ice['0'][steps[i]])\n",
    "            loc_eq_levels=np.append(loc_eq_levels,ice_h.index(eq_levels[i])+50000)\n",
    "            print(eq_levels)\n",
    "        for j in range(num):\n",
    "            section=[]\n",
    "            section=ice['0'][int(changes[j]):int(loc_eq_levels[j+1])]\n",
    "            print(np.shape(section))\n",
    "            section=np.append(section,np.zeros((len(times)-np.shape(section)[0])))\n",
    "            section_n=min_max_scaling(section)\n",
    "            sections[j,:]=section_n\n",
    "        \n",
    "    \n",
    "    return sections,rt/200."
   ]
  }
 ],
 "metadata": {
  "kernelspec": {
   "display_name": "Python 3",
   "language": "python",
   "name": "python3"
  },
  "language_info": {
   "codemirror_mode": {
    "name": "ipython",
    "version": 3
   },
   "file_extension": ".py",
   "mimetype": "text/x-python",
   "name": "python",
   "nbconvert_exporter": "python",
   "pygments_lexer": "ipython3",
   "version": "3.8.5"
  }
 },
 "nbformat": 4,
 "nbformat_minor": 4
}
